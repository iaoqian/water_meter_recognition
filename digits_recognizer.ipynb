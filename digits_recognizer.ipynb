{
 "cells": [
  {
   "cell_type": "code",
   "execution_count": 10,
   "metadata": {
    "collapsed": true
   },
   "outputs": [],
   "source": [
    "import torch\n",
    "import torch.utils.data as data\n",
    "import pandas as pd"
   ]
  },
  {
   "cell_type": "code",
   "execution_count": 114,
   "outputs": [],
   "source": [
    "from data import DigitsDateset\n",
    "from models.DigitsRecgnitionNetwork import DigitsRecognizer, DigitsPredictor\n",
    "from utils import multi_target_loss, sum_list_strs, show"
   ],
   "metadata": {
    "collapsed": false
   }
  },
  {
   "cell_type": "code",
   "execution_count": null,
   "outputs": [],
   "source": [
    "device = 'cuda' if torch.cuda.is_available() else 'cpu'"
   ],
   "metadata": {
    "collapsed": false
   }
  },
  {
   "cell_type": "code",
   "execution_count": 14,
   "outputs": [],
   "source": [
    "ds = DigitsDateset('train')\n",
    "net = DigitsRecognizer()\n",
    "net.to(device)\n",
    "dl = data.DataLoader(dataset=ds, batch_size=16, shuffle=True)"
   ],
   "metadata": {
    "collapsed": false
   }
  },
  {
   "cell_type": "code",
   "execution_count": 28,
   "outputs": [
    {
     "name": "stdout",
     "output_type": "stream",
     "text": [
      "0.038842447381466624\n",
      "0.025389123940840364\n",
      "0.019263003673404454\n",
      "0.013371636206284166\n",
      "0.012309118243865668\n",
      "0.01942392559722066\n",
      "0.010057745198719204\n",
      "0.009032084909267723\n",
      "0.006948444829322398\n",
      "0.006838354980573058\n",
      "0.007887748000212014\n",
      "0.009189618495292961\n",
      "0.006269496609456837\n",
      "0.004346975835505873\n",
      "0.004852717882022262\n",
      "0.0065213748253881935\n",
      "0.003042995277792215\n",
      "0.006493911007419228\n",
      "0.0034969549567904325\n",
      "0.005363784061046317\n",
      "0.003921570209786296\n",
      "0.005045577441342175\n",
      "0.004564128420315683\n",
      "0.00475455328123644\n",
      "0.0039665480027906595\n",
      "0.004499282193137333\n",
      "0.003064467734657228\n",
      "0.004474163393024355\n",
      "0.004998580378014594\n",
      "0.0027022039284929633\n"
     ]
    }
   ],
   "source": [
    "net.train()\n",
    "optim = torch.optim.Adam(net.parameters(), lr=0.0001)\n",
    "for _ in range(5):\n",
    "    mean_loss = 0\n",
    "    for i, (X, y) in enumerate(dl):\n",
    "        optim.zero_grad()\n",
    "        X, y = X.to(device), y.to(device)\n",
    "        loss = multi_target_loss(y, net(X))\n",
    "        loss.backward()\n",
    "        optim.step()\n",
    "        mean_loss += loss.item()\n",
    "        if (i + 1) % 10 == 0:\n",
    "            print(mean_loss / 10)\n",
    "            mean_loss = 0"
   ],
   "metadata": {
    "collapsed": false
   }
  },
  {
   "cell_type": "code",
   "execution_count": 30,
   "outputs": [
    {
     "name": "stdout",
     "output_type": "stream",
     "text": [
      "tensor(1., device='cuda:0')\n"
     ]
    }
   ],
   "source": [
    "# test accuracy\n",
    "# TODO implement it better\n",
    "with torch.no_grad():\n",
    "    net.eval()\n",
    "    net.to(device)\n",
    "    total_acc = 0\n",
    "    for X, y in dl:\n",
    "        X, y = X.to(device), y.to(device)\n",
    "        logits = net(X)\n",
    "        total_acc += (logits.argmax(dim=2) == y).all(dim=1).sum()\n",
    "    print(total_acc / 1000)"
   ],
   "metadata": {
    "collapsed": false
   }
  },
  {
   "cell_type": "code",
   "execution_count": 115,
   "outputs": [],
   "source": [
    "with torch.no_grad():\n",
    "    net.eval()\n",
    "    net.to(device)\n",
    "    test_ds = DigitsDateset('test')\n",
    "    test_dl = data.DataLoader(test_ds, batch_size=16, shuffle=False)\n",
    "    predictions = []\n",
    "    for X in test_dl:\n",
    "        X = X.to(device)\n",
    "        logits = net(X)\n",
    "        predictions += DigitsPredictor()(logits)\n",
    "\n",
    "    # make submission file\n",
    "    submission = pd.DataFrame(columns=['filename', 'result'])\n",
    "    submission['filename'] = [f'test_{i + 1}.jpg' for i in range(500)]\n",
    "    # TODO: add comments here\n",
    "    submission['result'] = [sum_list_strs(list_strs)[0: 5] for list_strs in predictions]\n",
    "    submission.to_csv(f'./submission.csv', header=True, index=False)"
   ],
   "metadata": {
    "collapsed": false
   }
  },
  {
   "cell_type": "code",
   "execution_count": 125,
   "outputs": [
    {
     "data": {
      "text/plain": "441    00291\n237    00233\n352    00834\n67     00334\n257    00652\n400    00267\n344    00811\n42     00410\n343    00426\n495    00675\n166    00416\n258    00507\n62     02189\n197    00611\n359    00474\n196    00167\n357    00567\n270    00167\n53     00501\n184    00849\nName: result, dtype: object"
     },
     "execution_count": 125,
     "metadata": {},
     "output_type": "execute_result"
    }
   ],
   "source": [
    "submission['result'].sample(10)"
   ],
   "metadata": {
    "collapsed": false
   }
  }
 ],
 "metadata": {
  "kernelspec": {
   "display_name": "Python 3",
   "language": "python",
   "name": "python3"
  },
  "language_info": {
   "codemirror_mode": {
    "name": "ipython",
    "version": 2
   },
   "file_extension": ".py",
   "mimetype": "text/x-python",
   "name": "python",
   "nbconvert_exporter": "python",
   "pygments_lexer": "ipython2",
   "version": "2.7.6"
  }
 },
 "nbformat": 4,
 "nbformat_minor": 0
}
