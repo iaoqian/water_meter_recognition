{
 "cells": [
  {
   "cell_type": "code",
   "execution_count": 1,
   "metadata": {
    "collapsed": true
   },
   "outputs": [],
   "source": [
    "import torch\n",
    "import torch.utils.data as data\n",
    "import pandas as pd"
   ]
  },
  {
   "cell_type": "code",
   "execution_count": 2,
   "outputs": [],
   "source": [
    "from data import DigitsDateset\n",
    "from models.DigitsRecgnitionNetwork import DigitsRecognizer, DigitsPredictor\n",
    "from utils import multi_target_loss, sum_list_strs, show"
   ],
   "metadata": {
    "collapsed": false
   }
  },
  {
   "cell_type": "code",
   "execution_count": 3,
   "outputs": [],
   "source": [
    "device = 'cuda' if torch.cuda.is_available() else 'cpu'"
   ],
   "metadata": {
    "collapsed": false
   }
  },
  {
   "cell_type": "code",
   "execution_count": 4,
   "outputs": [],
   "source": [
    "ds = DigitsDateset('train')\n",
    "net = DigitsRecognizer()\n",
    "net.to(device)\n",
    "dl = data.DataLoader(dataset=ds, batch_size=16, shuffle=True)"
   ],
   "metadata": {
    "collapsed": false
   }
  },
  {
   "cell_type": "code",
   "execution_count": 9,
   "outputs": [
    {
     "name": "stdout",
     "output_type": "stream",
     "text": [
      "0.194980039447546\n",
      "0.21359469145536422\n",
      "0.22774698138236998\n",
      "0.19150238260626792\n",
      "0.19875237792730333\n",
      "0.16399948969483374\n",
      "0.1488884322345257\n",
      "0.15746908709406854\n",
      "0.12732644081115724\n",
      "0.13592083975672722\n",
      "0.15191973820328714\n",
      "0.1416444804519415\n",
      "0.1028466872870922\n",
      "0.10573423467576504\n",
      "0.1124427456408739\n",
      "0.1113104123622179\n",
      "0.11707773581147193\n",
      "0.10519921220839024\n",
      "0.0832416620105505\n",
      "0.09673750475049019\n",
      "0.10055862702429294\n",
      "0.08058158867061138\n",
      "0.06822032313793898\n",
      "0.10273192413151264\n",
      "0.07312489487230778\n",
      "0.06449894569814205\n",
      "0.07920324243605137\n",
      "0.07456098031252623\n",
      "0.07319563198834658\n",
      "0.0830477885901928\n"
     ]
    }
   ],
   "source": [
    "net.train()\n",
    "optim = torch.optim.Adam(net.parameters(), lr=0.0001)\n",
    "for _ in range(5):\n",
    "    mean_loss = 0\n",
    "    for i, (X, y) in enumerate(dl):\n",
    "        optim.zero_grad()\n",
    "        X, y = X.to(device), y.to(device)\n",
    "        loss = multi_target_loss(y, net(X))\n",
    "        loss.backward()\n",
    "        optim.step()\n",
    "        mean_loss += loss.item()\n",
    "        if (i + 1) % 10 == 0:\n",
    "            print(mean_loss / 10)\n",
    "            mean_loss = 0"
   ],
   "metadata": {
    "collapsed": false
   }
  },
  {
   "cell_type": "code",
   "execution_count": 10,
   "outputs": [
    {
     "name": "stdout",
     "output_type": "stream",
     "text": [
      "tensor(0.9490, device='cuda:0')\n"
     ]
    }
   ],
   "source": [
    "# test accuracy\n",
    "# TODO implement it better\n",
    "with torch.no_grad():\n",
    "    net.eval()\n",
    "    net.to(device)\n",
    "    total_acc = 0\n",
    "    for X, y in dl:\n",
    "        X, y = X.to(device), y.to(device)\n",
    "        logits = net(X)\n",
    "        total_acc += (logits.argmax(dim=2) == y).all(dim=1).sum()\n",
    "    print(total_acc / 1000)"
   ],
   "metadata": {
    "collapsed": false
   }
  },
  {
   "cell_type": "code",
   "execution_count": 11,
   "outputs": [],
   "source": [
    "with torch.no_grad():\n",
    "    net.eval()\n",
    "    net.to(device)\n",
    "    test_ds = DigitsDateset('test')\n",
    "    test_dl = data.DataLoader(test_ds, batch_size=16, shuffle=False)\n",
    "    predictions = []\n",
    "    for X in test_dl:\n",
    "        X = X.to(device)\n",
    "        logits = net(X)\n",
    "        predictions += DigitsPredictor()(logits)\n",
    "\n",
    "    # make submission file\n",
    "    submission = pd.DataFrame(columns=['filename', 'result'])\n",
    "    submission['filename'] = [f'test_{i + 1}.jpg' for i in range(500)]\n",
    "    # TODO: add comments here\n",
    "    submission['result'] = [sum_list_strs(list_strs)[0: 5] for list_strs in predictions]\n",
    "    submission.to_csv(f'./submission.csv', header=True, index=False)"
   ],
   "metadata": {
    "collapsed": false
   }
  },
  {
   "cell_type": "code",
   "execution_count": 12,
   "outputs": [
    {
     "data": {
      "text/plain": "412    00466\n97     00584\n489    00247\n269    00007\n377    00130\n323    00108\n37     00198\n204    00038\n378    00041\n34     00475\nName: result, dtype: object"
     },
     "execution_count": 12,
     "metadata": {},
     "output_type": "execute_result"
    }
   ],
   "source": [
    "submission['result'].sample(10)"
   ],
   "metadata": {
    "collapsed": false
   }
  },
  {
   "cell_type": "code",
   "execution_count": null,
   "outputs": [],
   "source": [],
   "metadata": {
    "collapsed": false
   }
  }
 ],
 "metadata": {
  "kernelspec": {
   "display_name": "Python 3",
   "language": "python",
   "name": "python3"
  },
  "language_info": {
   "codemirror_mode": {
    "name": "ipython",
    "version": 2
   },
   "file_extension": ".py",
   "mimetype": "text/x-python",
   "name": "python",
   "nbconvert_exporter": "python",
   "pygments_lexer": "ipython2",
   "version": "2.7.6"
  }
 },
 "nbformat": 4,
 "nbformat_minor": 0
}
