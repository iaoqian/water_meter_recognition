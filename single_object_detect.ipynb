{
 "cells": [
  {
   "cell_type": "code",
   "execution_count": 125,
   "metadata": {
    "collapsed": true
   },
   "outputs": [],
   "source": [
    "import torch\n",
    "import torch.utils.data as data\n",
    "import torchvision\n",
    "import torchvision.transforms as transforms\n",
    "import PIL.Image\n",
    "from torchvision.utils import make_grid\n",
    "from utils import show"
   ]
  },
  {
   "cell_type": "code",
   "execution_count": 126,
   "outputs": [],
   "source": [
    "from data import RawWaterMeterDS\n",
    "from utils import tuple_collate_fn, draw_bbox_with_tensor, object_detection_transform\n",
    "from models.SingleObjectDetectionNetwork import fasterrcnn_mobilenet_v3_large_320_fpn"
   ],
   "metadata": {
    "collapsed": false
   }
  },
  {
   "cell_type": "code",
   "execution_count": null,
   "outputs": [],
   "source": [
    "device = 'cuda' if torch.cuda.is_available() else 'cpu'"
   ],
   "metadata": {
    "collapsed": false
   }
  },
  {
   "cell_type": "code",
   "execution_count": 156,
   "outputs": [],
   "source": [
    "dataset = RawWaterMeterDS('train', root='WaterMeterDataset/ProcessedData', target_transform=object_detection_transform)\n",
    "train_ds, valid_ds = data.random_split(dataset, [0.8, 0.2])"
   ],
   "metadata": {
    "collapsed": false
   }
  },
  {
   "cell_type": "code",
   "execution_count": 160,
   "outputs": [],
   "source": [
    "model = fasterrcnn_mobilenet_v3_large_320_fpn()\n",
    "model.to(device)\n",
    "dl = data.DataLoader(dataset, 6, shuffle=True, collate_fn=tuple_collate_fn)\n",
    "\n",
    "optimizer = torch.optim.Adam(model.parameters(), lr=1e-5)"
   ],
   "metadata": {
    "collapsed": false
   }
  },
  {
   "cell_type": "code",
   "execution_count": 203,
   "outputs": [
    {
     "name": "stdout",
     "output_type": "stream",
     "text": [
      "0.27946359291672707\n",
      "0.20567648820579051\n",
      "0.28954426646232606\n",
      "0.21443540155887603\n",
      "0.2515687167644501\n",
      "0.23652320243418218\n",
      "0.261049884557724\n",
      "0.2619100596755743\n",
      "0.31046064384281635\n",
      "0.21465664766728879\n",
      "0.257125736400485\n",
      "0.2268220901489258\n",
      "0.24808392785489558\n",
      "0.25108129531145096\n",
      "0.26036474816501143\n",
      "0.23870575837790967\n",
      "0.28292456530034543\n",
      "0.20452821142971517\n",
      "0.2258294366300106\n",
      "0.20843336582183838\n",
      "0.2262719888240099\n",
      "0.24162195734679698\n",
      "0.22437077276408673\n",
      "0.24561519771814347\n",
      "0.2953087896108627\n",
      "0.23447807058691977\n",
      "0.21404892057180405\n",
      "0.2078272070735693\n",
      "0.2045809779316187\n",
      "0.22685796283185483\n",
      "0.20439740754663943\n",
      "0.23611570186913014\n",
      "0.2504621375352144\n",
      "0.18118622414767743\n",
      "0.20143641382455826\n",
      "0.20836824290454387\n",
      "0.21421085000038148\n",
      "0.19329186379909516\n",
      "0.22759792432188988\n",
      "0.22299696058034896\n"
     ]
    }
   ],
   "source": [
    "mean_loss = 0\n",
    "model.train()\n",
    "for _ in range(10):\n",
    "    for idx, (X, y) in enumerate(dl):\n",
    "        optimizer.zero_grad()\n",
    "        X = list(X)\n",
    "        for i in range(len(X)):\n",
    "            X[i] = X[i].to(device)\n",
    "        for j in range(len(y)):\n",
    "            y[j]['boxes'] = y[j]['boxes'].to(device)\n",
    "            y[j]['labels'] = y[j]['labels'].to(device)\n",
    "        loss_dict = model(X, y)\n",
    "        # print(loss_dict\n",
    "        loss = sum(loss_dict.values())\n",
    "        loss.backward()\n",
    "        optimizer.step()\n",
    "        mean_loss += loss.item()\n",
    "        if (idx + 1) % 20 == 0:\n",
    "            print(mean_loss / 20)\n",
    "            mean_loss = 0"
   ],
   "metadata": {
    "collapsed": false
   }
  },
  {
   "cell_type": "code",
   "execution_count": null,
   "outputs": [],
   "source": [
    "# show detection effects in test dataset\n",
    "test_ds = RawWaterMeterDS('test', root='WaterMeterDataset/ProcessedData')\n",
    "model.eval()\n",
    "image_idx = 411\n",
    "img = draw_bbox_with_tensor(test_ds[image_idx], model(test_ds[image_idx].unsqueeze(0).to(device))[0]['boxes'])\n",
    "show(make_grid(img))"
   ],
   "metadata": {
    "collapsed": false
   }
  },
  {
   "cell_type": "code",
   "execution_count": 280,
   "outputs": [],
   "source": [
    "# transform test images\n",
    "with torch.no_grad():\n",
    "    for idx in range(500):\n",
    "        img = test_ds[idx]\n",
    "        pred = model(img.unsqueeze(0).to(device))[0]['boxes'].to(torch.int)\n",
    "        # check if bbox exists\n",
    "        bbox = pred[0] if len(pred) != 0 else torch.tensor([0, 0, 100, 100])\n",
    "        patch = img[:, bbox[1]: bbox[3], bbox[0]: bbox[2]]\n",
    "        patch = transforms.ToPILImage()(patch)\n",
    "        patch.save(f'WaterMeterDataset/ProcessedData/test_imgs_seg/test_seg_{idx + 1}.jpg')"
   ],
   "metadata": {
    "collapsed": false
   }
  },
  {
   "cell_type": "code",
   "execution_count": null,
   "outputs": [],
   "source": [
    "# transform train images\n",
    "for idx in range(1000):\n",
    "    img = dataset[idx][0]\n",
    "    bbox = dataset[idx][1]['boxes'][0]\n",
    "    patch = img[:, max(bbox[1], torch.tensor([0])): bbox[3], max(bbox[0], torch.tensor([0])): bbox[2]]\n",
    "    patch = transforms.ToPILImage()(patch)\n",
    "    patch.save(f'WaterMeterDataset/ProcessedData/train_imgs_seg/train_seg_{idx + 1}.jpg')"
   ],
   "metadata": {
    "collapsed": false
   }
  }
 ],
 "metadata": {
  "kernelspec": {
   "display_name": "Python 3",
   "language": "python",
   "name": "python3"
  },
  "language_info": {
   "codemirror_mode": {
    "name": "ipython",
    "version": 2
   },
   "file_extension": ".py",
   "mimetype": "text/x-python",
   "name": "python",
   "nbconvert_exporter": "python",
   "pygments_lexer": "ipython2",
   "version": "2.7.6"
  }
 },
 "nbformat": 4,
 "nbformat_minor": 0
}
